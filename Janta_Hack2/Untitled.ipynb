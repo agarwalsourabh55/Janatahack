{
 "cells": [
  {
   "cell_type": "code",
   "execution_count": 1,
   "metadata": {},
   "outputs": [],
   "source": [
    "import pandas as pd \n",
    "import numpy as np\n"
   ]
  },
  {
   "cell_type": "code",
   "execution_count": 5,
   "metadata": {},
   "outputs": [
    {
     "name": "stdout",
     "output_type": "stream",
     "text": [
      "        case_id  Hospital_code Hospital_type_code  City_Code_Hospital  \\\n",
      "0             1              8                  c                   3   \n",
      "1             2              2                  c                   5   \n",
      "2             3             10                  e                   1   \n",
      "3             4             26                  b                   2   \n",
      "4             5             26                  b                   2   \n",
      "...         ...            ...                ...                 ...   \n",
      "318433   318434              6                  a                   6   \n",
      "318434   318435             24                  a                   1   \n",
      "318435   318436              7                  a                   4   \n",
      "318436   318437             11                  b                   2   \n",
      "318437   318438             19                  a                   7   \n",
      "\n",
      "       Hospital_region_code  Available Extra Rooms in Hospital    Department  \\\n",
      "0                         Z                                  3  radiotherapy   \n",
      "1                         Z                                  2  radiotherapy   \n",
      "2                         X                                  2    anesthesia   \n",
      "3                         Y                                  2  radiotherapy   \n",
      "4                         Y                                  2  radiotherapy   \n",
      "...                     ...                                ...           ...   \n",
      "318433                    X                                  3  radiotherapy   \n",
      "318434                    X                                  2    anesthesia   \n",
      "318435                    X                                  3    gynecology   \n",
      "318436                    Y                                  3    anesthesia   \n",
      "318437                    Y                                  5    gynecology   \n",
      "\n",
      "       Ward_Type Ward_Facility_Code  Bed Grade  patientid  City_Code_Patient  \\\n",
      "0              R                  F        2.0      31397                7.0   \n",
      "1              S                  F        2.0      31397                7.0   \n",
      "2              S                  E        2.0      31397                7.0   \n",
      "3              R                  D        2.0      31397                7.0   \n",
      "4              S                  D        2.0      31397                7.0   \n",
      "...          ...                ...        ...        ...                ...   \n",
      "318433         Q                  F        4.0      86499               23.0   \n",
      "318434         Q                  E        4.0        325                8.0   \n",
      "318435         R                  F        4.0     125235               10.0   \n",
      "318436         Q                  D        3.0      91081                8.0   \n",
      "318437         Q                  C        2.0      21641                8.0   \n",
      "\n",
      "       Type of Admission Severity of Illness  Visitors with Patient    Age  \\\n",
      "0              Emergency             Extreme                      2  51-60   \n",
      "1                 Trauma             Extreme                      2  51-60   \n",
      "2                 Trauma             Extreme                      2  51-60   \n",
      "3                 Trauma             Extreme                      2  51-60   \n",
      "4                 Trauma             Extreme                      2  51-60   \n",
      "...                  ...                 ...                    ...    ...   \n",
      "318433         Emergency            Moderate                      3  41-50   \n",
      "318434            Urgent            Moderate                      4  81-90   \n",
      "318435         Emergency               Minor                      3  71-80   \n",
      "318436            Trauma               Minor                      5  11-20   \n",
      "318437         Emergency               Minor                      2  11-20   \n",
      "\n",
      "        Admission_Deposit  \n",
      "0                  4911.0  \n",
      "1                  5954.0  \n",
      "2                  4745.0  \n",
      "3                  7272.0  \n",
      "4                  5558.0  \n",
      "...                   ...  \n",
      "318433             4144.0  \n",
      "318434             6699.0  \n",
      "318435             4235.0  \n",
      "318436             3761.0  \n",
      "318437             4752.0  \n",
      "\n",
      "[318438 rows x 17 columns]\n"
     ]
    }
   ],
   "source": [
    "train=pd.read_csv('train.csv')\n",
    "#train.info()\n",
    "target=train['Stay']\n",
    "train=train.drop(['Stay'],axis=1)\n",
    "test=pd.read_csv('test.csv')\n",
    "print((train))"
   ]
  },
  {
   "cell_type": "code",
   "execution_count": 3,
   "metadata": {},
   "outputs": [
    {
     "name": "stdout",
     "output_type": "stream",
     "text": [
      "[     1      2      3 ... 318436 318437 318438]\n",
      "[ 8  2 10 26 23 32  1 22 16  9  6 29 12  3 21 28 27 19  5 14 13 31 24 17\n",
      " 25 15 11 30 18  4  7 20]\n",
      "['c' 'e' 'b' 'a' 'f' 'd' 'g']\n",
      "[ 3  5  1  2  6  9 10  4 11  7 13]\n",
      "['Z' 'X' 'Y']\n",
      "[ 3  2  1  4  6  5  7  8  9 10 12  0 11 20 14 21 13 24]\n",
      "['radiotherapy' 'anesthesia' 'gynecology' 'TB & Chest disease' 'surgery']\n",
      "['R' 'S' 'Q' 'P' 'T' 'U']\n",
      "['F' 'E' 'D' 'B' 'A' 'C']\n",
      "[ 2.  3.  4.  1. nan]\n",
      "[ 31397  63418   8088 ... 125235  91081  21641]\n",
      "[ 7.  8.  2.  5.  6.  3.  4.  1.  9. 14. nan 25. 15. 12. 10. 28. 24. 23.\n",
      " 20. 11. 13. 21. 18. 16. 26. 27. 22. 19. 31. 34. 32. 30. 29. 37. 33. 35.\n",
      " 36. 38.]\n",
      "['Emergency' 'Trauma' 'Urgent']\n",
      "['Extreme' 'Moderate' 'Minor']\n",
      "[ 2  4  3  8  6  7 13  5  1 10 15 11 12  9 24 16 14 20  0 19 18 17 23 21\n",
      " 32 30 22 25]\n",
      "['51-60' '71-80' '31-40' '41-50' '81-90' '61-70' '21-30' '11-20' '0-10'\n",
      " '91-100']\n",
      "[4911. 5954. 4745. ... 1937. 9439. 2349.]\n"
     ]
    }
   ],
   "source": [
    "for i in train.columns:\n",
    "    print(train[i].unique())"
   ]
  },
  {
   "cell_type": "code",
   "execution_count": 4,
   "metadata": {},
   "outputs": [],
   "source": [
    "train=train.drop(['Bed Grade'],axis=1)"
   ]
  },
  {
   "cell_type": "code",
   "execution_count": 5,
   "metadata": {},
   "outputs": [],
   "source": [
    "#train['Age']=train['Age'].apply(lambda x:( int(x[0]) +int(x[2:4]) )/2 if x[0]== '0' else (int(x[0:2]) +int(x[3:5]))/2)\n"
   ]
  },
  {
   "cell_type": "code",
   "execution_count": 6,
   "metadata": {},
   "outputs": [],
   "source": [
    "#train['Stay']=train['Stay'].apply(lambda x: '100' if x[0]== 'M' else x)\n"
   ]
  },
  {
   "cell_type": "code",
   "execution_count": 7,
   "metadata": {},
   "outputs": [],
   "source": [
    "#train['Stay']=train['Stay'].apply(lambda x:( int(x[0]) +int(x[2:4]) )/2 if x[0]== '0' else (int(x[0:2]) +int(x[3:5]))/2)\n"
   ]
  },
  {
   "cell_type": "code",
   "execution_count": 8,
   "metadata": {},
   "outputs": [],
   "source": [
    "\n",
    "a=train.columns\n",
    "categorical=[i for i in a if train[i].dtype == 'O']\n",
    "\n",
    "\n",
    "b=test.columns\n",
    "categorical_test=[i for i in b if test[i].dtype == 'O']\n",
    "\n",
    "\n",
    "numerical=[i for i in a if i not in categorical ]\n",
    "#train=train.drop(['Bed Grade'],axis=1)\n",
    "#train.shape\n",
    "\n",
    "\n",
    "numerical_test=[i for i in a if i not in categorical_test ]\n",
    "test=test.drop(['Bed Grade'],axis=1)\n",
    "#test.shape"
   ]
  },
  {
   "cell_type": "code",
   "execution_count": 9,
   "metadata": {},
   "outputs": [],
   "source": [
    "#train['Age'].unique()\n",
    "train=pd.get_dummies(train,drop_first=True)\n",
    "test=pd.get_dummies(test,drop_first=True)"
   ]
  },
  {
   "cell_type": "code",
   "execution_count": 10,
   "metadata": {},
   "outputs": [],
   "source": [
    "#train.info()\n",
    "#print(train)\n",
    "from sklearn.impute import SimpleImputer\n",
    "my_imputer = SimpleImputer(strategy='mean')\n",
    "train_new = my_imputer.fit_transform(train)\n",
    "test_new = my_imputer.fit_transform(test)"
   ]
  },
  {
   "cell_type": "code",
   "execution_count": 11,
   "metadata": {},
   "outputs": [],
   "source": [
    "#from sklearn.preprocessing import OneHotEncoder\n",
    "#one=OneHotEncoder()\n",
    "#train_new=one.fit_transform(train)"
   ]
  },
  {
   "cell_type": "code",
   "execution_count": 12,
   "metadata": {},
   "outputs": [],
   "source": [
    "from sklearn.preprocessing import LabelEncoder\n",
    "lb=LabelEncoder()\n",
    "target=lb.fit_transform(target)"
   ]
  },
  {
   "cell_type": "code",
   "execution_count": 13,
   "metadata": {},
   "outputs": [],
   "source": [
    "from sklearn.model_selection import train_test_split\n",
    "\n",
    "X_train,X_test,y_train,y_test=train_test_split(train_new,target,test_size=0.4)\n"
   ]
  },
  {
   "cell_type": "code",
   "execution_count": null,
   "metadata": {},
   "outputs": [],
   "source": [
    "from sklearn.ensemble import RandomForestClassifier\n",
    "from sklearn.metrics import accuracy_score\n",
    "rc=RandomForestClassifier()\n",
    "rc.fit(X_train,y_train)\n",
    "predic=rc.predict(X_test)\n",
    "print(accuracy_score(predic,y_test))"
   ]
  },
  {
   "cell_type": "code",
   "execution_count": null,
   "metadata": {},
   "outputs": [],
   "source": []
  }
 ],
 "metadata": {
  "kernelspec": {
   "display_name": "Python 3",
   "language": "python",
   "name": "python3"
  },
  "language_info": {
   "codemirror_mode": {
    "name": "ipython",
    "version": 3
   },
   "file_extension": ".py",
   "mimetype": "text/x-python",
   "name": "python",
   "nbconvert_exporter": "python",
   "pygments_lexer": "ipython3",
   "version": "3.7.5"
  }
 },
 "nbformat": 4,
 "nbformat_minor": 2
}
